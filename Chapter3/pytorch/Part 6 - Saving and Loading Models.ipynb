{
 "cells": [
  {
   "cell_type": "markdown",
   "metadata": {},
   "source": [
    "# Saving and Loading Models\n",
    "\n",
    "In this notebook, I'll show you how to save and load models with PyTorch. This is important because you'll often want to load previously trained models to use in making predictions or to continue training on new data."
   ]
  },
  {
   "cell_type": "code",
   "execution_count": 1,
   "metadata": {},
   "outputs": [],
   "source": [
    "%matplotlib inline\n",
    "%config InlineBackend.figure_format = 'retina'\n",
    "\n",
    "import matplotlib.pyplot as plt\n",
    "\n",
    "import torch\n",
    "from torch import nn\n",
    "from torch import optim\n",
    "import torch.nn.functional as F\n",
    "from torchvision import datasets, transforms\n",
    "\n",
    "import helper\n",
    "import fc_model"
   ]
  },
  {
   "cell_type": "code",
   "execution_count": 2,
   "metadata": {},
   "outputs": [
    {
     "name": "stdout",
     "output_type": "stream",
     "text": [
      "Downloading http://fashion-mnist.s3-website.eu-central-1.amazonaws.com/train-images-idx3-ubyte.gz\n",
      "Downloading http://fashion-mnist.s3-website.eu-central-1.amazonaws.com/train-labels-idx1-ubyte.gz\n",
      "Downloading http://fashion-mnist.s3-website.eu-central-1.amazonaws.com/t10k-images-idx3-ubyte.gz\n",
      "Downloading http://fashion-mnist.s3-website.eu-central-1.amazonaws.com/t10k-labels-idx1-ubyte.gz\n",
      "Processing...\n",
      "Done!\n"
     ]
    }
   ],
   "source": [
    "# Define a transform to normalize the data\n",
    "transform = transforms.Compose([transforms.ToTensor(),\n",
    "                                transforms.Normalize((0.5,), (0.5,))])\n",
    "# Download and load the training data\n",
    "trainset = datasets.FashionMNIST('F_MNIST_data/', download=True, train=True, transform=transform)\n",
    "trainloader = torch.utils.data.DataLoader(trainset, batch_size=64, shuffle=True)\n",
    "\n",
    "# Download and load the test data\n",
    "testset = datasets.FashionMNIST('F_MNIST_data/', download=True, train=False, transform=transform)\n",
    "testloader = torch.utils.data.DataLoader(testset, batch_size=64, shuffle=True)"
   ]
  },
  {
   "cell_type": "markdown",
   "metadata": {},
   "source": [
    "Here we can see one of the images."
   ]
  },
  {
   "cell_type": "code",
   "execution_count": 3,
   "metadata": {},
   "outputs": [
    {
     "data": {
      "image/png": "[encoded data removed]",
      "text/plain": [
       "<matplotlib.figure.Figure at 0x7faa7fcccb00>"
      ]
     },
     "metadata": {
      "image/png": {
       "height": 233,
       "width": 233
      },
      "needs_background": "light"
     },
     "output_type": "display_data"
    }
   ],
   "source": [
    "image, label = next(iter(trainloader))\n",
    "helper.imshow(image[0,:]);"
   ]
  },
  {
   "cell_type": "markdown",
   "metadata": {},
   "source": [
    "# Train a network\n",
    "\n",
    "To make things more concise here, I moved the model architecture and training code from the last part to a file called `fc_model`. Importing this, we can easily create a fully-connected network with `fc_model.Network`, and train the network using `fc_model.train`. I'll use this model (once it's trained) to demonstrate how we can save and load models."
   ]
  },
  {
   "cell_type": "code",
   "execution_count": 4,
   "metadata": {},
   "outputs": [],
   "source": [
    "# Create the network, define the criterion and optimizer\n",
    "\n",
    "model = fc_model.Network(784, 10, [512, 256, 128])\n",
    "criterion = nn.NLLLoss()\n",
    "optimizer = optim.Adam(model.parameters(), lr=0.001)"
   ]
  },
  {
   "cell_type": "code",
   "execution_count": 5,
   "metadata": {},
   "outputs": [
    {
     "name": "stdout",
     "output_type": "stream",
     "text": [
      "Epoch: 1/2..  Training Loss: 1.647..  Test Loss: 0.995..  Test Accuracy: 0.610\n",
      "Epoch: 1/2..  Training Loss: 1.038..  Test Loss: 0.765..  Test Accuracy: 0.716\n",
      "Epoch: 1/2..  Training Loss: 0.880..  Test Loss: 0.698..  Test Accuracy: 0.741\n",
      "Epoch: 1/2..  Training Loss: 0.823..  Test Loss: 0.641..  Test Accuracy: 0.757\n",
      "Epoch: 1/2..  Training Loss: 0.758..  Test Loss: 0.632..  Test Accuracy: 0.762\n",
      "Epoch: 1/2..  Training Loss: 0.743..  Test Loss: 0.602..  Test Accuracy: 0.775\n",
      "Epoch: 1/2..  Training Loss: 0.734..  Test Loss: 0.597..  Test Accuracy: 0.773\n",
      "Epoch: 1/2..  Training Loss: 0.648..  Test Loss: 0.568..  Test Accuracy: 0.787\n",
      "Epoch: 1/2..  Training Loss: 0.668..  Test Loss: 0.536..  Test Accuracy: 0.798\n",
      "Epoch: 1/2..  Training Loss: 0.682..  Test Loss: 0.546..  Test Accuracy: 0.795\n",
      "Epoch: 1/2..  Training Loss: 0.579..  Test Loss: 0.520..  Test Accuracy: 0.802\n",
      "Epoch: 1/2..  Training Loss: 0.636..  Test Loss: 0.511..  Test Accuracy: 0.810\n",
      "Epoch: 1/2..  Training Loss: 0.608..  Test Loss: 0.517..  Test Accuracy: 0.811\n",
      "Epoch: 1/2..  Training Loss: 0.643..  Test Loss: 0.534..  Test Accuracy: 0.803\n",
      "Epoch: 1/2..  Training Loss: 0.603..  Test Loss: 0.509..  Test Accuracy: 0.812\n",
      "Epoch: 1/2..  Training Loss: 0.619..  Test Loss: 0.505..  Test Accuracy: 0.813\n",
      "Epoch: 1/2..  Training Loss: 0.581..  Test Loss: 0.510..  Test Accuracy: 0.808\n",
      "Epoch: 1/2..  Training Loss: 0.578..  Test Loss: 0.486..  Test Accuracy: 0.825\n",
      "Epoch: 1/2..  Training Loss: 0.591..  Test Loss: 0.497..  Test Accuracy: 0.817\n",
      "Epoch: 1/2..  Training Loss: 0.561..  Test Loss: 0.477..  Test Accuracy: 0.827\n",
      "Epoch: 1/2..  Training Loss: 0.576..  Test Loss: 0.499..  Test Accuracy: 0.818\n",
      "Epoch: 1/2..  Training Loss: 0.581..  Test Loss: 0.491..  Test Accuracy: 0.824\n",
      "Epoch: 1/2..  Training Loss: 0.581..  Test Loss: 0.487..  Test Accuracy: 0.827\n",
      "Epoch: 2/2..  Training Loss: 0.568..  Test Loss: 0.477..  Test Accuracy: 0.828\n",
      "Epoch: 2/2..  Training Loss: 0.547..  Test Loss: 0.487..  Test Accuracy: 0.823\n",
      "Epoch: 2/2..  Training Loss: 0.552..  Test Loss: 0.455..  Test Accuracy: 0.832\n",
      "Epoch: 2/2..  Training Loss: 0.555..  Test Loss: 0.466..  Test Accuracy: 0.827\n",
      "Epoch: 2/2..  Training Loss: 0.523..  Test Loss: 0.475..  Test Accuracy: 0.827\n",
      "Epoch: 2/2..  Training Loss: 0.520..  Test Loss: 0.476..  Test Accuracy: 0.830\n",
      "Epoch: 2/2..  Training Loss: 0.531..  Test Loss: 0.478..  Test Accuracy: 0.823\n",
      "Epoch: 2/2..  Training Loss: 0.519..  Test Loss: 0.469..  Test Accuracy: 0.827\n",
      "Epoch: 2/2..  Training Loss: 0.497..  Test Loss: 0.456..  Test Accuracy: 0.829\n",
      "Epoch: 2/2..  Training Loss: 0.531..  Test Loss: 0.455..  Test Accuracy: 0.834\n",
      "Epoch: 2/2..  Training Loss: 0.556..  Test Loss: 0.453..  Test Accuracy: 0.835\n",
      "Epoch: 2/2..  Training Loss: 0.509..  Test Loss: 0.455..  Test Accuracy: 0.823\n",
      "Epoch: 2/2..  Training Loss: 0.535..  Test Loss: 0.449..  Test Accuracy: 0.833\n",
      "Epoch: 2/2..  Training Loss: 0.512..  Test Loss: 0.454..  Test Accuracy: 0.833\n",
      "Epoch: 2/2..  Training Loss: 0.503..  Test Loss: 0.464..  Test Accuracy: 0.831\n",
      "Epoch: 2/2..  Training Loss: 0.540..  Test Loss: 0.464..  Test Accuracy: 0.829\n",
      "Epoch: 2/2..  Training Loss: 0.518..  Test Loss: 0.446..  Test Accuracy: 0.835\n",
      "Epoch: 2/2..  Training Loss: 0.545..  Test Loss: 0.469..  Test Accuracy: 0.829\n",
      "Epoch: 2/2..  Training Loss: 0.499..  Test Loss: 0.459..  Test Accuracy: 0.835\n",
      "Epoch: 2/2..  Training Loss: 0.519..  Test Loss: 0.432..  Test Accuracy: 0.842\n",
      "Epoch: 2/2..  Training Loss: 0.535..  Test Loss: 0.449..  Test Accuracy: 0.836\n",
      "Epoch: 2/2..  Training Loss: 0.527..  Test Loss: 0.440..  Test Accuracy: 0.837\n",
      "Epoch: 2/2..  Training Loss: 0.529..  Test Loss: 0.438..  Test Accuracy: 0.836\n"
     ]
    }
   ],
   "source": [
    "fc_model.train(model, trainloader, testloader, criterion, optimizer, epochs=2)"
   ]
  },
  {
   "cell_type": "markdown",
   "metadata": {},
   "source": [
    "## Saving and loading networks\n",
    "\n",
    "As you can imagine, it's impractical to train a network every time you need to use it. Instead, we can save trained networks then load them later to train more or use them for predictions.\n",
    "\n",
    "The parameters for PyTorch networks are stored in a model's `state_dict`. We can see the state dict contains the weight and bias matrices for each of our layers."
   ]
  },
  {
   "cell_type": "code",
   "execution_count": 31,
   "metadata": {},
   "outputs": [
    {
     "name": "stdout",
     "output_type": "stream",
     "text": [
      "test:  [tensor([[-3.3379e-03,  2.3632e-02, -2.8270e-03,  ..., -2.1736e-02,\n",
      "         -8.7347e-03,  1.7532e-02],\n",
      "        [-4.2613e-03,  1.9547e-02, -5.1757e-03,  ...,  9.2589e-03,\n",
      "          1.0453e-02,  2.9193e-02],\n",
      "        [ 1.4326e-02,  3.4036e-02, -1.7852e-02,  ..., -3.7290e-03,\n",
      "          1.5656e-02, -3.4206e-02],\n",
      "        ...,\n",
      "        [-2.5981e-02,  2.8284e-02, -3.2105e-02,  ...,  3.4721e-02,\n",
      "         -3.1721e-03,  3.5133e-02],\n",
      "        [ 8.2965e-03,  1.7599e-02, -3.5222e-03,  ..., -3.2994e-02,\n",
      "         -7.7444e-03, -1.6399e-02],\n",
      "        [ 1.9386e-02,  2.3685e-02,  2.5725e-02,  ..., -1.9385e-02,\n",
      "          1.8507e-02, -2.2538e-02]]), tensor(1.00000e-02 *\n",
      "       [-3.5446,  1.7321, -1.9814,  3.5592,  3.3137, -2.1277,  3.1686,\n",
      "        -0.1671,  3.1713, -1.4856,  0.3607,  1.1792, -3.2571, -2.8878,\n",
      "         1.5063,  2.6559, -1.7617, -1.6334,  0.1274, -3.1641, -0.2178,\n",
      "         0.7257,  1.9196,  1.9505,  2.4882,  1.7913,  2.5081, -2.0478,\n",
      "         0.9670,  2.9994,  0.1079, -2.9324, -0.3724,  3.4735, -1.8507,\n",
      "         0.3511,  1.9622,  1.5464, -2.2987, -0.0921,  0.4141,  0.9328,\n",
      "        -0.1215,  1.9193,  0.6438, -0.8382,  1.9552,  0.3773, -1.9220,\n",
      "         0.6389, -0.2162,  3.3764,  0.4549,  0.8891,  1.1881,  0.3715,\n",
      "        -1.6487,  2.6805, -3.2930,  2.1969, -1.3185,  2.2779,  1.5741,\n",
      "        -3.3520,  2.6375, -3.0138, -0.2503,  2.7645, -1.0577,  3.0426,\n",
      "         1.1943, -1.4745,  2.5019, -2.4473,  1.9544,  1.9271, -2.2035,\n",
      "        -2.0569, -2.7037,  2.6612,  0.0918,  1.9674, -3.1927, -1.0146,\n",
      "        -3.4361,  1.8955,  2.2112,  0.6190, -1.8015,  2.2489,  1.0601,\n",
      "         3.2476,  0.8930,  2.5190, -0.1810,  0.5306, -1.2946,  3.0399,\n",
      "         2.4024,  0.0508, -2.4584,  0.9061,  1.4108, -0.9420, -1.7979,\n",
      "         0.6646,  3.3580, -1.7989, -3.2588,  1.0975, -3.4803,  0.0181,\n",
      "        -1.4724, -1.8213, -2.6011,  1.7372, -2.0031,  3.0212, -0.6638,\n",
      "         3.5648,  2.5627,  1.5025, -2.7425, -3.2721,  2.5776, -3.4402,\n",
      "        -0.2035, -1.4977,  2.6149, -2.4957,  2.6485, -2.4256,  3.2349,\n",
      "         0.9373, -3.2545,  1.3389,  2.9744,  3.1460,  1.4413, -2.1411,\n",
      "        -0.5896,  0.8608,  2.4802, -0.2736, -1.9800, -3.0698,  0.4165,\n",
      "        -2.1531,  0.4356, -0.2046,  0.0870,  1.7001,  3.2875,  0.3993,\n",
      "         2.3769,  2.9312,  1.9062,  0.8541,  3.3313, -0.5292, -1.7759,\n",
      "        -2.5995, -1.1321, -0.0213, -2.5515,  3.0928, -2.2883,  2.2100,\n",
      "        -2.2155,  1.5964, -1.5323, -2.5011, -1.9200, -2.4419, -2.3188,\n",
      "        -0.4931,  2.2965,  0.7297, -0.5440, -3.5230, -2.3584, -0.6802,\n",
      "        -0.3130,  3.4085, -0.6838,  3.3168, -1.0301,  1.4498, -3.5660,\n",
      "        -0.5530, -0.4249, -1.2612, -1.3525,  1.2077,  2.0659, -0.2977,\n",
      "         0.3357,  1.8962, -2.1111, -3.0720,  2.5017, -1.4393, -2.5376,\n",
      "        -0.3784, -0.9237,  1.2667,  2.0334,  0.9602,  0.2628, -0.1328,\n",
      "        -2.1696, -1.5261,  1.0676,  2.5058,  0.7285, -0.5775,  2.6650,\n",
      "        -0.3687,  2.6905, -3.4705,  3.0233, -1.9843,  3.2803, -2.3874,\n",
      "         0.9948, -3.3488, -3.5520, -1.2885, -1.0765, -2.2027,  0.5117,\n",
      "         0.6346, -3.3925,  1.9690, -2.5969,  0.8747, -0.5501,  0.7684,\n",
      "         2.8672,  3.2251, -2.6383,  1.5981,  0.6985,  1.1209,  1.9772,\n",
      "        -1.9425, -0.0190, -2.8663,  1.0514, -2.0160, -1.0032,  2.3813,\n",
      "        -1.5250, -2.8582,  2.6470, -2.6637, -2.4682, -3.2049, -3.1586,\n",
      "         1.0617,  0.6580, -3.5399, -2.3932, -2.9559, -1.5801, -1.8040,\n",
      "         1.6736,  1.9596, -0.5232,  2.8162,  1.2977, -2.9013, -1.7942,\n",
      "         1.1399, -3.2890,  1.1277,  2.5001,  1.6293,  2.0193,  1.1137,\n",
      "        -0.9804, -1.5675, -1.5310,  1.7169,  0.0422,  3.0242,  1.7752,\n",
      "        -0.6899,  0.6519, -1.6885, -2.3320, -2.3387, -1.4111, -3.3659,\n",
      "        -1.6874,  1.4755,  3.2457,  0.9755, -3.1315, -2.7909, -3.5145,\n",
      "         1.8754,  2.9354, -0.3004,  0.1516, -2.0401,  2.2816,  2.5774,\n",
      "         0.4781,  0.6641,  0.7392, -2.1440,  1.4094, -0.7617, -2.3186,\n",
      "         0.1519,  2.7483,  0.9972, -1.1103,  2.1129,  2.9210, -3.4734,\n",
      "         2.7498,  1.5511, -0.8402,  2.0204, -1.5174,  2.9846, -2.0116,\n",
      "        -3.0123,  3.0925, -2.8365, -1.4041,  3.2055, -1.6963, -2.5497,\n",
      "         0.9696, -3.2518, -0.0738, -2.7806, -3.2773, -1.8849,  0.4717,\n",
      "        -2.8241, -2.4708,  0.1981, -0.7063,  2.2845, -0.2880, -2.3065,\n",
      "        -2.8611, -3.5573,  0.5461,  1.8490,  0.5750, -2.3503,  2.5108,\n",
      "        -2.2817, -1.4554,  3.4501,  1.2594, -2.1322, -2.9589, -0.8745,\n",
      "        -1.9167, -3.0800,  2.1767,  3.3500, -0.4969,  0.0502,  1.5205,\n",
      "         3.0510, -2.5781, -1.5940,  0.5555, -0.6271,  3.3105,  0.0332,\n",
      "         1.6151,  0.4308,  0.6192,  2.4284, -2.7956,  2.7190, -3.2364,\n",
      "         2.6758,  0.6454, -0.7750, -2.7548, -1.2203,  2.2821, -0.1386,\n",
      "        -0.0445,  0.5146, -3.5100, -3.5372, -3.3188, -1.6339, -2.7775,\n",
      "        -1.6525]), tensor([[ 1.9141e-02, -5.4546e-04,  1.1542e-02,  ...,  1.8012e-02,\n",
      "          1.2396e-02,  4.8846e-02],\n",
      "        [-4.6801e-02, -1.1616e-02,  5.4555e-03,  ...,  1.5914e-02,\n",
      "         -3.9114e-02, -6.0050e-03],\n",
      "        [-1.9805e-02, -2.6053e-02,  5.6062e-03,  ...,  2.9947e-02,\n",
      "          1.4350e-02,  2.6563e-02],\n",
      "        ...,\n",
      "        [ 4.4626e-03, -3.8418e-02,  4.3953e-02,  ..., -3.4315e-02,\n",
      "         -1.2733e-02,  3.4892e-03],\n",
      "        [-1.6700e-02, -3.4501e-02, -2.6019e-02,  ..., -1.1319e-02,\n",
      "          3.4425e-02,  1.3837e-02],\n",
      "        [ 3.0748e-02,  9.2061e-03,  4.2919e-02,  ..., -4.9925e-02,\n",
      "          1.7301e-02,  4.1339e-02]]), tensor(1.00000e-02 *\n",
      "       [ 4.3850, -2.1032, -0.1605,  0.3161,  1.6044, -0.2360, -3.3455,\n",
      "         0.5380, -4.9788, -2.4995, -1.7464,  0.4624, -0.2051, -3.4903,\n",
      "        -3.0172,  2.5632,  0.9847, -3.6869, -4.2128,  2.1495,  1.6853,\n",
      "         3.9214, -1.2008,  3.0035, -2.2323,  2.6833, -3.5800, -4.3554,\n",
      "         0.4020,  3.2294,  0.2390,  1.7509,  4.4702,  2.2075, -1.3992,\n",
      "        -1.9427,  3.6887, -1.6792, -4.0929,  4.1783,  0.3696, -0.5058,\n",
      "        -0.2015,  4.1348,  1.0576, -0.1969, -0.4524,  0.4784, -1.3164,\n",
      "         2.6909, -3.4304,  0.3557, -2.5592,  2.3743, -1.5560,  2.9094,\n",
      "         1.4989, -2.7802,  3.0155,  1.5630,  2.9639,  0.5129,  3.6772,\n",
      "        -2.0959, -4.3476, -1.2990, -4.0341,  0.0600, -1.3514, -2.2311,\n",
      "         3.4628,  3.9617,  2.1199,  1.5891, -3.8573, -2.3403,  1.7318,\n",
      "        -2.9146,  3.0352, -2.7836,  1.7250, -4.4801, -0.7951,  0.7951,\n",
      "        -0.9372, -0.1095,  3.9831, -0.7014,  0.9525,  4.3509, -1.4277,\n",
      "        -3.1503, -1.4805, -1.8003, -0.0544, -4.0574,  4.6319,  2.6609,\n",
      "         1.5280,  0.5234,  4.2113, -4.4191, -0.7306,  3.5428,  1.3666,\n",
      "        -3.0926,  2.2375,  3.0849, -2.4181, -2.2823, -0.8900, -2.9592,\n",
      "        -2.7585, -0.9959, -2.4654, -0.2561, -4.0873,  0.1759, -4.1142,\n",
      "         3.8496, -2.4203, -2.3856,  4.8679, -1.6514,  1.0918,  4.4244,\n",
      "         4.0372,  4.2569,  2.2396,  2.4100, -0.6769,  2.2151,  4.0712,\n",
      "        -0.1340,  2.2273,  0.2898,  0.0124, -1.6502,  2.9169,  2.5766,\n",
      "         2.8671,  2.7847, -1.2830, -4.2288, -4.2694, -4.9620,  2.5995,\n",
      "         4.0196, -2.0194, -1.7463, -2.9073,  1.5549,  1.0448, -2.4049,\n",
      "         1.9124,  2.0806, -4.5990,  1.2621, -2.3796, -2.1663,  4.6223,\n",
      "        -1.3198, -3.9958,  1.3937, -0.0325,  1.9476, -2.7251,  2.2548,\n",
      "        -2.4344,  2.7076, -0.3362,  4.0365,  4.3121, -0.5878,  2.6844,\n",
      "         1.8331,  1.1319, -4.9905, -0.4442, -4.1824, -2.1799, -0.6028,\n",
      "        -3.6753, -4.0370,  1.8288,  2.8937, -4.9160, -2.3946, -0.0169,\n",
      "        -4.4292,  0.0634, -1.8043, -4.6483, -1.4462, -1.9530, -0.3884,\n",
      "        -2.4004, -0.3990,  4.8403,  4.0009]), tensor(1.00000e-02 *\n",
      "       [[ 2.8585, -3.1261, -0.5026,  ...,  5.9748,  3.6163, -0.3077],\n",
      "        [-2.6924,  7.0115,  6.9484,  ...,  4.3051, -5.5272, -1.1547],\n",
      "        [ 1.2180, -0.8442,  4.1478,  ..., -1.5922, -6.8991, -5.3489],\n",
      "        ...,\n",
      "        [ 5.0694,  5.7825,  3.3506,  ...,  7.0448, -4.1477,  4.8924],\n",
      "        [-6.7935,  4.2446, -5.3628,  ...,  1.0263, -5.5867, -3.5247],\n",
      "        [ 0.3648, -0.1318,  4.2620,  ...,  1.9258,  6.2106,  4.6402]]), tensor(1.00000e-02 *\n",
      "       [-3.7913, -5.1413,  3.5590, -3.4917,  6.1328,  6.8963,  6.9696,\n",
      "        -1.3355, -6.0665,  2.9497,  1.5579, -1.1723,  3.6177,  4.2198,\n",
      "        -5.2937, -6.8881, -1.9168, -5.0101,  4.0621,  4.1477, -1.9767,\n",
      "         1.3473, -6.5705,  0.4266,  4.3031,  5.9987,  3.5344, -6.0296,\n",
      "         5.8203,  6.5430, -4.5804,  7.0633,  3.4316, -3.4144, -1.4756,\n",
      "         0.4738,  6.2837,  3.1447,  5.3079,  1.0359,  6.6167, -1.9957,\n",
      "        -2.2599,  0.8947,  5.8359,  1.0347, -1.8690,  4.8380, -0.4147,\n",
      "        -5.5661, -3.6396,  6.7628, -0.3101,  2.6553,  5.3277,  2.7352,\n",
      "         5.1412, -1.4765,  4.8373, -6.2030, -1.4585, -3.0618, -2.9524,\n",
      "        -6.6885,  2.5259,  6.2870, -2.1917, -0.1992, -0.8231,  1.1539,\n",
      "         4.5588, -1.4376,  4.6784, -2.2278, -6.4165, -0.6453,  4.1928,\n",
      "         2.8860,  3.2771, -1.1711, -4.4637, -5.8032, -1.8546, -3.9001,\n",
      "        -1.1885,  1.8082, -3.9681, -0.0602,  3.8800,  4.6233,  4.2742,\n",
      "        -4.0745,  0.9444, -2.8087, -4.8656, -2.2195,  6.2512, -6.8732,\n",
      "        -0.3714, -6.7228]), tensor(1.00000e-02 *\n",
      "       [[-2.6306, -5.7605,  9.1859, -5.2990,  3.7141, -7.5810,  2.6951,\n",
      "          6.4756,  6.2218, -9.8958, -8.2145, -4.7125, -6.7952,  0.8456,\n",
      "         -6.8624, -3.5936,  6.0289, -6.9349,  3.9301,  7.9657,  6.1912,\n",
      "         -2.5324, -3.0989, -8.5745,  0.4698, -1.1844, -2.9837,  5.9824,\n",
      "         -5.1022,  9.3349, -6.1338, -5.1580, -9.5886,  2.1578, -2.0986,\n",
      "         -0.0426,  6.0578,  4.3003, -5.3774,  0.7904,  6.7489,  8.2028,\n",
      "         -6.0607,  8.9522, -5.5151, -3.1119, -8.0164, -9.5109, -4.6893,\n",
      "          9.6053, -0.3648, -2.2204,  8.0644,  1.2778, -8.4019,  8.6739,\n",
      "         -2.5473, -1.2094,  1.4202, -2.0694, -2.8968, -0.1072, -9.6561,\n",
      "         -3.0174, -0.5884,  2.5069,  4.8508, -2.3368, -2.5012,  1.8284,\n",
      "         -1.9206, -6.3471,  2.7288, -0.0659,  9.4026,  9.8325,  3.1464,\n",
      "          5.6081, -5.3906, -5.4767,  7.8994, -5.7924, -1.6879, -4.6936,\n",
      "          8.4114, -3.1910,  8.6004,  5.2505,  7.6205,  1.2453, -7.8274,\n",
      "          5.8594,  4.9417, -5.0350,  7.4327, -4.2974,  8.0583,  0.0011,\n",
      "          3.2599,  6.8305],\n",
      "        [-6.9614, -1.9817, -9.3486,  7.1254, -5.9016, -6.7387, -9.4387,\n",
      "         -6.3847,  0.3460,  3.6515, -9.4052, -2.6686,  9.5670,  5.9545,\n",
      "          9.5554,  6.1183, -0.5987, -5.5527,  4.4863,  0.2914, -1.1241,\n",
      "          4.7757, -8.7532, -4.8553, -1.2240,  2.1913,  8.6627,  2.9580,\n",
      "          8.3808, -8.5220, -0.8865, -5.0998,  7.2543, -7.8438,  3.8875,\n",
      "          1.6755,  0.3531,  4.3797, -8.7475,  9.9047,  6.4151, -0.5675,\n",
      "          3.5895,  7.3084,  3.7222,  8.7064, -1.8775,  6.0833,  2.8282,\n",
      "         -1.5703, -5.8484,  6.5473, -0.6533,  1.9229, -9.3523,  9.5112,\n",
      "         -7.7828, -2.4428, -2.6413, -7.1502, -4.9993,  6.7492,  2.1533,\n",
      "         -0.5186,  0.1901, -9.1728, -3.7037,  6.5467,  9.7437, -4.7241,\n",
      "          4.5655,  4.9551, -7.9741,  9.2683,  5.8281, -8.5326, -6.9644,\n",
      "         -7.8625,  8.8495, -5.2862,  3.7163,  9.2655,  5.7932,  4.6958,\n",
      "         -5.6027,  7.1651, -0.0748, -9.8978, -3.2789,  7.7534, -9.7446,\n",
      "         -1.6257, -0.1589,  4.4181,  8.2340,  4.4033, -2.5710, -7.0174,\n",
      "         -0.7504,  5.3786],\n",
      "        [-0.4978, -3.9375,  9.0199,  7.6170,  5.6747, -0.1120, -2.0366,\n",
      "          5.0256,  2.1896, -2.6870, -5.6352,  8.2176, -6.4532,  1.4792,\n",
      "         -6.6767,  6.0876, -6.8746,  6.6067,  4.5763,  3.6717,  6.2711,\n",
      "         -1.4604, -5.2788,  9.3319, -9.2715,  5.7894, -7.6759,  6.1927,\n",
      "         -3.4240, -1.0919,  6.4238, -0.2700,  9.9847,  8.4266,  9.2063,\n",
      "         -7.0329,  0.5266, -5.5921, -9.6882, -3.6331, -6.1707,  0.9019,\n",
      "          7.0822, -1.4492,  1.1763,  1.9553,  7.3602, -0.0161, -2.5661,\n",
      "          3.4105, -8.1584,  5.1326, -0.7204, -8.0170, -1.0301,  9.0781,\n",
      "          2.4847, -8.2929, -2.0487,  5.5266, -1.5349, -3.7655,  8.6447,\n",
      "          0.5111, -9.5957,  3.5298, -5.2566, -5.7465, -6.6191,  3.2240,\n",
      "          4.8685, -4.4480, -3.7175,  1.3150, -6.4050,  4.1039,  5.3730,\n",
      "         -3.8202, -1.8973,  3.4694, -0.0197,  9.0551, -7.7891,  2.5960,\n",
      "          6.7244,  0.3677,  7.4832, -5.1834, -0.8099, -7.5797, -4.4555,\n",
      "         -5.7373,  0.0732,  6.5314,  8.6793, -6.1376, -1.1720, -1.1444,\n",
      "          8.4307,  6.8878],\n",
      "        [ 0.1682, -1.9495,  2.7061,  3.5594,  4.8631,  1.7734,  2.1642,\n",
      "          7.5261, -5.7309, -1.0332, -2.7643,  7.3844, -5.2216,  4.1453,\n",
      "         -4.7470,  9.8268,  7.8761, -4.5471,  0.6465, -6.3938,  0.3782,\n",
      "         -6.8049, -3.8417,  4.2066, -5.7001, -9.1513,  5.8441,  3.4904,\n",
      "          8.8653, -1.2370, -9.7925, -2.8013,  7.2323,  3.4190, -6.7022,\n",
      "          2.0448,  8.9708,  2.1299, -1.4259,  5.8352, -1.4547,  1.0626,\n",
      "          4.7953,  9.2534, -1.7209,  9.5501,  8.2331,  7.5562,  8.3715,\n",
      "         -4.5388, -5.3463, -6.8730, -2.3943,  7.2932,  1.1616, -3.0739,\n",
      "          9.5073, -8.5457, -9.5519,  9.6701, -5.7449,  7.1681, -0.2691,\n",
      "          9.3866,  9.4040, -3.8173, -4.2843,  4.4650,  1.4628,  9.5460,\n",
      "          7.4391,  7.6532,  6.5150, -6.6876, -6.6909, -4.7698,  1.6301,\n",
      "         -7.2564,  8.5939,  0.3050,  3.5761, -7.5816, -4.7739, -0.9882,\n",
      "          6.0718, -4.3236,  6.5836, -1.9249,  6.3834, -5.4634, -3.0931,\n",
      "         -9.2302,  7.9568,  5.2164,  2.8406,  0.1317,  7.1229,  5.9336,\n",
      "         -7.6110, -0.5922],\n",
      "        [ 1.5295, -4.4669,  9.7657, -4.3627,  9.1378, -9.4386, -0.8936,\n",
      "         -5.7863, -5.9169,  1.8315,  4.2064,  3.0548, -4.5592,  5.5902,\n",
      "         -9.0158, -1.2612,  6.6728, -9.6466, -8.4012, -6.2982, -5.2412,\n",
      "         -5.9238,  6.3408, -8.6158,  1.5869,  8.4119, -5.7655, -3.5837,\n",
      "          1.6123, -6.3179, -6.7599, -9.5956, -4.0117,  3.1475, -7.0483,\n",
      "          5.6135, -5.1734, -6.2190,  7.2115, -2.9574,  1.9798, -9.5926,\n",
      "         -1.4905,  7.6776,  8.6526,  0.2632,  1.1833,  8.7306,  2.0068,\n",
      "          5.5127, -6.4553, -2.4212, -8.0651,  3.7021,  8.4274, -3.0233,\n",
      "          0.1463, -1.3027, -4.8675, -9.1670,  6.0808, -9.4679, -7.2825,\n",
      "         -2.9195,  8.4555,  5.5460,  2.9975, -7.1503,  8.4208, -4.5279,\n",
      "          1.9754,  2.4391, -3.0071,  5.1643,  4.1148, -3.4470, -0.8998,\n",
      "          3.7628, -2.9012, -7.2584, -3.7604, -4.1895, -8.2746, -2.7312,\n",
      "         -3.6013, -7.0579,  6.9032, -5.4378, -1.2134,  4.0725,  6.0490,\n",
      "          9.8410,  0.6195, -4.6710, -4.6661, -3.5548, -3.6843, -8.4917,\n",
      "          0.5213,  1.7211],\n",
      "        [ 8.2128, -4.6829,  7.6078, -8.4763,  7.5686,  9.5209,  8.7741,\n",
      "          4.5905, -7.9541,  3.9336,  3.8857, -4.2543, -1.3796,  4.4682,\n",
      "          7.8571, -6.7136,  5.5777, -9.9716, -0.6645, -8.8024, -5.0155,\n",
      "          3.4356,  5.9166, -1.1620, -4.2322, -4.3910,  6.1018, -9.6225,\n",
      "          8.8335,  8.2673,  2.0004,  1.4356, -4.6235,  0.5961,  9.9715,\n",
      "         -1.5365,  5.7323,  5.8967, -4.8401,  6.0920, -2.3623, -8.4121,\n",
      "          7.7136,  4.9165, -9.3368,  3.0721, -2.4274,  7.4926, -6.9701,\n",
      "          4.8679, -7.6016, -6.3458, -1.2855, -6.2289, -2.9424,  3.2679,\n",
      "         -3.6953,  3.5143, -5.7401,  0.7453, -4.9731, -8.9208,  9.1592,\n",
      "          7.3091,  7.4923, -1.0126,  1.2494,  9.8985, -3.4552,  2.5740,\n",
      "         -8.3280, -4.3760, -3.6353,  8.0861, -4.2708,  1.2389,  5.9620,\n",
      "          4.7465,  7.3424,  2.8662,  6.0331,  2.7667,  6.0233, -8.5020,\n",
      "         -0.1533,  1.5092, -2.3302,  0.8833, -9.2986,  3.4748, -9.4435,\n",
      "         -5.3840,  9.2774,  6.5929,  5.3947,  8.3176, -1.6846,  5.6567,\n",
      "          4.3960, -9.1831],\n",
      "        [ 7.1519,  9.7314,  2.5732,  1.6463, -6.2953,  9.5340,  0.0543,\n",
      "         -9.4118, -9.2656,  0.5614, -7.1049, -0.8467,  8.5087, -7.9127,\n",
      "          4.9920,  1.0729,  4.7200,  6.5304, -1.9476, -8.9595, -5.8348,\n",
      "         -3.0621,  0.7610,  9.6798,  9.9755, -8.7487,  8.2886,  0.5921,\n",
      "         -3.0848, -4.3094,  4.3120, -7.2360, -7.1226, -5.4387, -0.7015,\n",
      "          6.9055, -9.4149, -5.3064,  6.0302,  7.5137, -5.9163,  7.8754,\n",
      "          2.6543, -4.0434, -2.7384,  8.9702,  7.1925, -4.3177, -2.7647,\n",
      "         -8.6760,  2.1242,  9.4532, -6.6297,  1.8520, -3.8455, -5.8220,\n",
      "          7.4410, -6.9099,  8.6937, -8.7109,  1.2834,  6.1981, -0.7822,\n",
      "          7.7401,  9.9249, -6.3152,  5.7136,  1.4956, -8.7157, -7.3731,\n",
      "         -8.2211, -0.5100,  9.7449,  7.1563,  7.8645,  4.6477,  4.0573,\n",
      "          0.2992,  3.7929,  0.3469, -2.4230,  3.7319,  7.5459, -9.5105,\n",
      "         -1.6765,  9.0776, -4.9544,  9.8117,  3.2583,  3.1059, -6.6300,\n",
      "         -5.2726, -2.5269, -8.1891,  4.9205,  2.8386, -2.4386,  1.4111,\n",
      "         -2.1418, -0.4821],\n",
      "        [ 4.3990, -6.9743,  9.5438,  4.4699, -3.8793, -1.7735,  9.5126,\n",
      "         -5.9258, -3.2627,  8.1735,  3.5832,  6.2614,  9.5443, -3.2118,\n",
      "         -8.9706,  1.9641, -3.8322, -6.9160, -1.9074,  1.6311, -3.4901,\n",
      "          5.7276, -4.0630,  2.8733, -5.6007, -3.8106,  6.2356, -4.1118,\n",
      "         -6.5251, -2.5749,  2.6061, -5.3440, -2.2847, -7.3304, -8.7305,\n",
      "          4.7889,  5.4090, -1.5041, -7.6534, -1.9135,  9.0599,  8.2307,\n",
      "         -0.1434,  5.0867, -7.3786,  1.0560,  8.5184,  7.0520,  4.3714,\n",
      "         -4.1612, -5.6487, -0.5140,  9.0936,  8.6564, -4.2179, -4.3587,\n",
      "         -2.2013,  7.4082, -9.0234,  3.9294, -5.5128, -7.7083,  2.8477,\n",
      "          2.9317,  6.5751, -6.9499, -9.7706, -0.4320,  0.0230,  9.1491,\n",
      "          1.5436,  1.7034, -0.9005,  0.4097, -8.0609,  0.0185, -8.1666,\n",
      "         -1.5537,  9.4579, -4.0589, -5.9567, -8.6866, -9.2727, -0.1962,\n",
      "         -0.1188,  7.5860, -4.8599, -3.4650, -0.6106, -4.2836,  9.6916,\n",
      "         -4.2918,  3.9405,  8.2108,  3.3628,  0.7722, -2.7372,  5.6020,\n",
      "         -5.3506, -4.7197],\n",
      "        [ 7.8237,  7.7283, -6.2187,  7.7552, -8.8150, -4.4501,  4.7044,\n",
      "          1.8305,  0.5824, -5.1340,  1.4414, -0.2711, -5.0201, -4.8118,\n",
      "         -6.5311,  5.0116,  0.8714,  2.8522,  3.0086,  8.8131,  0.1408,\n",
      "         -9.0788,  8.0430, -9.8836, -9.8384, -5.7237,  7.8531,  0.0826,\n",
      "         -0.9568,  1.0166,  2.0970,  8.2236,  5.4588, -9.7422,  1.1205,\n",
      "          9.0208,  8.4193,  9.5785,  5.4456,  0.6112,  2.6288,  4.0155,\n",
      "          8.9955,  0.4437, -6.9072,  4.0192,  8.4896, -4.8181,  4.7155,\n",
      "         -2.5356,  4.3520,  7.0706, -3.3420,  9.6358, -6.9352, -2.3321,\n",
      "         -3.3297,  4.9030, -8.4371,  6.4310,  9.2015,  7.8979, -3.6127,\n",
      "          7.1836, -4.7904, -5.2239, -3.8881, -3.8045, -7.8602,  9.3826,\n",
      "         -4.7608,  6.1156,  5.1608, -1.7556, -4.2989, -6.1040, -5.1886,\n",
      "         -7.4238, -5.8831,  3.1536, -8.2761, -2.8280,  7.6798, -9.9860,\n",
      "          2.2330,  0.6590, -7.2579, -8.9097,  2.0239,  4.2160, -0.4736,\n",
      "         -9.8506, -7.2784,  9.2746,  7.9315, -9.2365, -7.7398,  6.9875,\n",
      "          7.1875,  1.6792],\n",
      "        [ 8.4558,  6.5507, -1.7419,  4.3632,  6.6230, -8.2717,  8.7166,\n",
      "         -5.1955,  8.7678, -1.6973,  2.4400,  1.9398,  5.2719,  1.8001,\n",
      "         -2.6644, -8.0817, -7.5393, -2.3477,  9.2956, -0.4643,  1.8149,\n",
      "         -1.9254, -5.9107,  5.4945,  4.9503, -1.3588,  1.1749, -7.7931,\n",
      "          9.0246, -4.9297, -3.2713,  3.2524,  8.2743, -5.7976, -3.4097,\n",
      "          0.5480,  0.9189,  5.5611, -6.0551,  6.7040,  1.2679,  9.6027,\n",
      "          6.3529,  5.4268,  5.6918,  9.3384,  2.5361,  1.5768,  3.6013,\n",
      "          6.4430,  8.8558,  7.9616,  5.0511,  1.8263,  2.4078, -1.6474,\n",
      "         -5.9312,  6.3458,  8.2932, -7.0346,  7.7609,  5.9821,  0.2966,\n",
      "         -8.1140,  3.5741,  0.3512, -7.1552, -2.7136, -0.4361, -9.0695,\n",
      "         -1.0934, -7.6616,  5.9846, -1.7887,  2.5500,  0.0476,  1.2953,\n",
      "         -4.8528,  8.2281,  0.0809,  1.0325,  4.6552,  8.9185,  6.7698,\n",
      "          3.9225,  3.4437,  9.1107,  8.1055,  9.2321, -5.1232,  1.6672,\n",
      "          9.1739,  1.8963, -4.3177, -0.0749, -1.3054, -6.8086, -0.2244,\n",
      "          6.9272,  7.2105]]), tensor([ 0.0300, -0.1570,  0.0251,  0.1498, -0.0728, -0.0349,  0.0219,\n",
      "         0.0044,  0.0792, -0.0260])]\n"
     ]
    }
   ],
   "source": [
    "# print(\"Our model: \\n\\n\", model, '\\n')\n",
    "# print(\"The state dict keys: \\n\\n\", model.state_dict().keys())\n",
    "# print(\"The state dict values: \\n\\n\", model.state_dict().values())\n",
    "print(\"test: \", [value for key, value in model.state_dict().items()])\n",
    "# for key, value in model.state_dict().items():\n",
    "#     print(value)"
   ]
  },
  {
   "cell_type": "markdown",
   "metadata": {},
   "source": [
    "The simplest thing to do is simply save the state dict with `torch.save`. For example, we can save it to a file `'checkpoint.pth'`."
   ]
  },
  {
   "cell_type": "code",
   "execution_count": 8,
   "metadata": {},
   "outputs": [],
   "source": [
    "torch.save(model.state_dict(), 'checkpoint.pth')"
   ]
  },
  {
   "cell_type": "markdown",
   "metadata": {},
   "source": [
    "Then we can load the state dict with `torch.load`."
   ]
  },
  {
   "cell_type": "code",
   "execution_count": 9,
   "metadata": {},
   "outputs": [
    {
     "name": "stdout",
     "output_type": "stream",
     "text": [
      "odict_keys(['hidden_layers.0.weight', 'hidden_layers.0.bias', 'hidden_layers.1.weight', 'hidden_layers.1.bias', 'hidden_layers.2.weight', 'hidden_layers.2.bias', 'output.weight', 'output.bias'])\n"
     ]
    }
   ],
   "source": [
    "state_dict = torch.load('checkpoint.pth')\n",
    "print(state_dict.keys())"
   ]
  },
  {
   "cell_type": "markdown",
   "metadata": {},
   "source": [
    "And to load the state dict in to the network, you do `model.load_state_dict(state_dict)`."
   ]
  },
  {
   "cell_type": "code",
   "execution_count": 10,
   "metadata": {},
   "outputs": [],
   "source": [
    "model.load_state_dict(state_dict)"
   ]
  },
  {
   "cell_type": "markdown",
   "metadata": {},
   "source": [
    "Seems pretty straightforward, but as usual it's a bit more complicated. Loading the state dict works only if the model architecture is exactly the same as the checkpoint architecture. If I create a model with a different architecture, this fails."
   ]
  },
  {
   "cell_type": "code",
   "execution_count": 11,
   "metadata": {},
   "outputs": [
    {
     "ename": "RuntimeError",
     "evalue": "Error(s) in loading state_dict for Network:\n\tWhile copying the parameter named \"hidden_layers.0.weight\", whose dimensions in the model are torch.Size([400, 784]) and whose dimensions in the checkpoint are torch.Size([512, 784]).\n\tWhile copying the parameter named \"hidden_layers.0.bias\", whose dimensions in the model are torch.Size([400]) and whose dimensions in the checkpoint are torch.Size([512]).\n\tWhile copying the parameter named \"hidden_layers.1.weight\", whose dimensions in the model are torch.Size([200, 400]) and whose dimensions in the checkpoint are torch.Size([256, 512]).\n\tWhile copying the parameter named \"hidden_layers.1.bias\", whose dimensions in the model are torch.Size([200]) and whose dimensions in the checkpoint are torch.Size([256]).\n\tWhile copying the parameter named \"hidden_layers.2.weight\", whose dimensions in the model are torch.Size([100, 200]) and whose dimensions in the checkpoint are torch.Size([128, 256]).\n\tWhile copying the parameter named \"hidden_layers.2.bias\", whose dimensions in the model are torch.Size([100]) and whose dimensions in the checkpoint are torch.Size([128]).\n\tWhile copying the parameter named \"output.weight\", whose dimensions in the model are torch.Size([10, 100]) and whose dimensions in the checkpoint are torch.Size([10, 128]).",
     "output_type": "error",
     "traceback": [
      "\u001b[0;31m---------------------------------------------------------------------------\u001b[0m",
      "\u001b[0;31mRuntimeError\u001b[0m                              Traceback (most recent call last)",
      "\u001b[0;32m<ipython-input-11-d859c59ebec0>\u001b[0m in \u001b[0;36m<module>\u001b[0;34m()\u001b[0m\n\u001b[1;32m      2\u001b[0m \u001b[0mmodel\u001b[0m \u001b[0;34m=\u001b[0m \u001b[0mfc_model\u001b[0m\u001b[0;34m.\u001b[0m\u001b[0mNetwork\u001b[0m\u001b[0;34m(\u001b[0m\u001b[0;36m784\u001b[0m\u001b[0;34m,\u001b[0m \u001b[0;36m10\u001b[0m\u001b[0;34m,\u001b[0m \u001b[0;34m[\u001b[0m\u001b[0;36m400\u001b[0m\u001b[0;34m,\u001b[0m \u001b[0;36m200\u001b[0m\u001b[0;34m,\u001b[0m \u001b[0;36m100\u001b[0m\u001b[0;34m]\u001b[0m\u001b[0;34m)\u001b[0m\u001b[0;34m\u001b[0m\u001b[0m\n\u001b[1;32m      3\u001b[0m \u001b[0;31m# This will throw an error because the tensor sizes are wrong!\u001b[0m\u001b[0;34m\u001b[0m\u001b[0;34m\u001b[0m\u001b[0m\n\u001b[0;32m----> 4\u001b[0;31m \u001b[0mmodel\u001b[0m\u001b[0;34m.\u001b[0m\u001b[0mload_state_dict\u001b[0m\u001b[0;34m(\u001b[0m\u001b[0mstate_dict\u001b[0m\u001b[0;34m)\u001b[0m\u001b[0;34m\u001b[0m\u001b[0m\n\u001b[0m",
      "\u001b[0;32m/opt/conda/lib/python3.6/site-packages/torch/nn/modules/module.py\u001b[0m in \u001b[0;36mload_state_dict\u001b[0;34m(self, state_dict, strict)\u001b[0m\n\u001b[1;32m    719\u001b[0m         \u001b[0;32mif\u001b[0m \u001b[0mlen\u001b[0m\u001b[0;34m(\u001b[0m\u001b[0merror_msgs\u001b[0m\u001b[0;34m)\u001b[0m \u001b[0;34m>\u001b[0m \u001b[0;36m0\u001b[0m\u001b[0;34m:\u001b[0m\u001b[0;34m\u001b[0m\u001b[0m\n\u001b[1;32m    720\u001b[0m             raise RuntimeError('Error(s) in loading state_dict for {}:\\n\\t{}'.format(\n\u001b[0;32m--> 721\u001b[0;31m                                self.__class__.__name__, \"\\n\\t\".join(error_msgs)))\n\u001b[0m\u001b[1;32m    722\u001b[0m \u001b[0;34m\u001b[0m\u001b[0m\n\u001b[1;32m    723\u001b[0m     \u001b[0;32mdef\u001b[0m \u001b[0mparameters\u001b[0m\u001b[0;34m(\u001b[0m\u001b[0mself\u001b[0m\u001b[0;34m)\u001b[0m\u001b[0;34m:\u001b[0m\u001b[0;34m\u001b[0m\u001b[0m\n",
      "\u001b[0;31mRuntimeError\u001b[0m: Error(s) in loading state_dict for Network:\n\tWhile copying the parameter named \"hidden_layers.0.weight\", whose dimensions in the model are torch.Size([400, 784]) and whose dimensions in the checkpoint are torch.Size([512, 784]).\n\tWhile copying the parameter named \"hidden_layers.0.bias\", whose dimensions in the model are torch.Size([400]) and whose dimensions in the checkpoint are torch.Size([512]).\n\tWhile copying the parameter named \"hidden_layers.1.weight\", whose dimensions in the model are torch.Size([200, 400]) and whose dimensions in the checkpoint are torch.Size([256, 512]).\n\tWhile copying the parameter named \"hidden_layers.1.bias\", whose dimensions in the model are torch.Size([200]) and whose dimensions in the checkpoint are torch.Size([256]).\n\tWhile copying the parameter named \"hidden_layers.2.weight\", whose dimensions in the model are torch.Size([100, 200]) and whose dimensions in the checkpoint are torch.Size([128, 256]).\n\tWhile copying the parameter named \"hidden_layers.2.bias\", whose dimensions in the model are torch.Size([100]) and whose dimensions in the checkpoint are torch.Size([128]).\n\tWhile copying the parameter named \"output.weight\", whose dimensions in the model are torch.Size([10, 100]) and whose dimensions in the checkpoint are torch.Size([10, 128])."
     ]
    }
   ],
   "source": [
    "# Try this\n",
    "model = fc_model.Network(784, 10, [400, 200, 100])\n",
    "# This will throw an error because the tensor sizes are wrong!\n",
    "model.load_state_dict(state_dict)"
   ]
  },
  {
   "cell_type": "markdown",
   "metadata": {},
   "source": [
    "This means we need to rebuild the model exactly as it was when trained. Information about the model architecture needs to be saved in the checkpoint, along with the state dict. To do this, you build a dictionary with all the information you need to compeletely rebuild the model."
   ]
  },
  {
   "cell_type": "code",
   "execution_count": 32,
   "metadata": {},
   "outputs": [],
   "source": [
    "checkpoint = {'input_size': 784,\n",
    "              'output_size': 10,\n",
    "              'hidden_layers': [each.out_features for each in model.hidden_layers],\n",
    "              'state_dict': model.state_dict()}\n",
    "\n",
    "torch.save(checkpoint, 'checkpoint.pth')"
   ]
  },
  {
   "cell_type": "markdown",
   "metadata": {},
   "source": [
    "Now the checkpoint has all the necessary information to rebuild the trained model. You can easily make that a function if you want. Similarly, we can write a function to load checkpoints. "
   ]
  },
  {
   "cell_type": "code",
   "execution_count": 33,
   "metadata": {},
   "outputs": [],
   "source": [
    "def load_checkpoint(filepath):\n",
    "    checkpoint = torch.load(filepath)\n",
    "    model = fc_model.Network(checkpoint['input_size'],\n",
    "                             checkpoint['output_size'],\n",
    "                             checkpoint['hidden_layers'])\n",
    "    model.load_state_dict(checkpoint['state_dict'])\n",
    "    \n",
    "    return model"
   ]
  },
  {
   "cell_type": "code",
   "execution_count": 34,
   "metadata": {},
   "outputs": [
    {
     "name": "stdout",
     "output_type": "stream",
     "text": [
      "Network(\n",
      "  (hidden_layers): ModuleList(\n",
      "    (0): Linear(in_features=784, out_features=400, bias=True)\n",
      "    (1): Linear(in_features=400, out_features=200, bias=True)\n",
      "    (2): Linear(in_features=200, out_features=100, bias=True)\n",
      "  )\n",
      "  (output): Linear(in_features=100, out_features=10, bias=True)\n",
      "  (dropout): Dropout(p=0.5)\n",
      ")\n"
     ]
    }
   ],
   "source": [
    "model = load_checkpoint('checkpoint.pth')\n",
    "print(model)"
   ]
  },
  {
   "cell_type": "code",
   "execution_count": null,
   "metadata": {},
   "outputs": [],
   "source": []
  }
 ],
 "metadata": {
  "kernelspec": {
   "display_name": "Python 3",
   "language": "python",
   "name": "python3"
  },
  "language_info": {
   "codemirror_mode": {
    "name": "ipython",
    "version": 3
   },
   "file_extension": ".py",
   "mimetype": "text/x-python",
   "name": "python",
   "nbconvert_exporter": "python",
   "pygments_lexer": "ipython3",
   "version": "3.6.3"
  }
 },
 "nbformat": 4,
 "nbformat_minor": 2
}

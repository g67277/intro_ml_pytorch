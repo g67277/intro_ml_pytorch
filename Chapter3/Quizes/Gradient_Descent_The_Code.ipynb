{
  "nbformat": 4,
  "nbformat_minor": 0,
  "metadata": {
    "colab": {
      "name": "Gradient Descent - The Code",
      "provenance": []
    },
    "kernelspec": {
      "name": "python3",
      "display_name": "Python 3"
    }
  },
  "cells": [
    {
      "cell_type": "code",
      "metadata": {
        "id": "eWYyJ2aQ7Ufd",
        "colab_type": "code",
        "colab": {}
      },
      "source": [
        "import numpy as np"
      ],
      "execution_count": null,
      "outputs": []
    },
    {
      "cell_type": "code",
      "metadata": {
        "id": "m9J2s9bW7d3D",
        "colab_type": "code",
        "colab": {}
      },
      "source": [
        "def sigmoid(x):\n",
        "    \"\"\"\n",
        "    Calculate sigmoid\n",
        "    \"\"\"\n",
        "    return 1/(1+np.exp(-x))"
      ],
      "execution_count": 2,
      "outputs": []
    },
    {
      "cell_type": "code",
      "metadata": {
        "id": "6DnHkvTs8MUJ",
        "colab_type": "code",
        "colab": {}
      },
      "source": [
        "def sigmoid_prime(x):\n",
        "    \"\"\"\n",
        "    # Derivative of the sigmoid function\n",
        "    \"\"\"\n",
        "    return sigmoid(x) * (1 - sigmoid(x))"
      ],
      "execution_count": 3,
      "outputs": []
    },
    {
      "cell_type": "code",
      "metadata": {
        "id": "xnCj0R0Q8Nid",
        "colab_type": "code",
        "colab": {}
      },
      "source": [
        "learnrate = 0.5\n",
        "x = np.array([1, 2, 3, 4])\n",
        "y = np.array(0.5)\n",
        "\n",
        "# Initial weights\n",
        "w = np.array([0.5, -0.5, 0.3, 0.1])"
      ],
      "execution_count": 4,
      "outputs": []
    },
    {
      "cell_type": "code",
      "metadata": {
        "id": "rsB5c5Q-8Pqq",
        "colab_type": "code",
        "colab": {
          "base_uri": "https://localhost:8080/",
          "height": 34
        },
        "outputId": "2bf102e1-b8cf-4353-ea21-cf5af54c72c6"
      },
      "source": [
        "### Calculate one gradient descent step for each weight\n",
        "### Note: Some steps have been consolidated, so there are\n",
        "###       fewer variable names than in the above sample code\n",
        "\n",
        "# TODO: Calculate the node's linear combination of inputs and weights\n",
        "h = np.dot(x, w)\n",
        "h"
      ],
      "execution_count": 6,
      "outputs": [
        {
          "output_type": "execute_result",
          "data": {
            "text/plain": [
              "0.7999999999999999"
            ]
          },
          "metadata": {
            "tags": []
          },
          "execution_count": 6
        }
      ]
    },
    {
      "cell_type": "code",
      "metadata": {
        "id": "ZZdTs6ve8YqS",
        "colab_type": "code",
        "colab": {
          "base_uri": "https://localhost:8080/",
          "height": 34
        },
        "outputId": "7247312b-babf-4abf-94a1-b9156f4727db"
      },
      "source": [
        "# TODO: Calculate output of neural network\n",
        "nn_output = sigmoid(h)\n",
        "nn_output"
      ],
      "execution_count": 7,
      "outputs": [
        {
          "output_type": "execute_result",
          "data": {
            "text/plain": [
              "0.6899744811276125"
            ]
          },
          "metadata": {
            "tags": []
          },
          "execution_count": 7
        }
      ]
    },
    {
      "cell_type": "code",
      "metadata": {
        "id": "ajQ3hvti8ZUx",
        "colab_type": "code",
        "colab": {}
      },
      "source": [
        "# TODO: Calculate error of neural network\n",
        "error = y - nn_output"
      ],
      "execution_count": 9,
      "outputs": []
    },
    {
      "cell_type": "code",
      "metadata": {
        "id": "QhN9OHXe8bcb",
        "colab_type": "code",
        "colab": {}
      },
      "source": [
        "# TODO: Calculate the error term\n",
        "#       Remember, this requires the output gradient, which we haven't\n",
        "#       specifically added a variable for.\n",
        "error_term = error * sigmoid_prime(h)"
      ],
      "execution_count": 10,
      "outputs": []
    },
    {
      "cell_type": "code",
      "metadata": {
        "id": "vJuNVI328eD2",
        "colab_type": "code",
        "colab": {
          "base_uri": "https://localhost:8080/",
          "height": 119
        },
        "outputId": "19766f47-3774-4daf-c532-5335d0d2b584"
      },
      "source": [
        "# TODO: Calculate change in weights\n",
        "del_w = learnrate * error_term * x\n",
        "\n",
        "print('Neural Network output:')\n",
        "print(nn_output)\n",
        "print('Amount of Error:')\n",
        "print(error)\n",
        "print('Change in Weights:')\n",
        "print(del_w)"
      ],
      "execution_count": 12,
      "outputs": [
        {
          "output_type": "stream",
          "text": [
            "Neural Network output:\n",
            "0.6899744811276125\n",
            "Amount of Error:\n",
            "-0.1899744811276125\n",
            "Change in Weights:\n",
            "[-0.02031869 -0.04063738 -0.06095608 -0.08127477]\n"
          ],
          "name": "stdout"
        }
      ]
    },
    {
      "cell_type": "code",
      "metadata": {
        "id": "9yJTfOdU9LJC",
        "colab_type": "code",
        "colab": {}
      },
      "source": [
        ""
      ],
      "execution_count": null,
      "outputs": []
    }
  ]
}
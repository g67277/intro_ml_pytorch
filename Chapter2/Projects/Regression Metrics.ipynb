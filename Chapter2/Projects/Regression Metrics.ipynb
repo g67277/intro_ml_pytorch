{
 "cells": [
  {
   "cell_type": "markdown",
   "metadata": {},
   "source": [
    "### Boston Housing Data\n",
    "\n",
    "In order to gain a better understanding of the metrics used in regression settings, we will be looking at the Boston Housing dataset.  \n",
    "\n",
    "First use the cell below to read in the dataset and set up the training and testing data that will be used for the rest of this problem."
   ]
  },
  {
   "cell_type": "code",
   "execution_count": 3,
   "metadata": {},
   "outputs": [],
   "source": [
    "from sklearn.datasets import load_boston\n",
    "from sklearn.model_selection import train_test_split\n",
    "import numpy as np\n",
    "\n",
    "boston = load_boston()\n",
    "y = boston.target\n",
    "X = boston.data\n",
    "\n",
    "X_train, X_test, y_train, y_test = train_test_split(\n",
    "            X, y, test_size=0.33, random_state=42)"
   ]
  },
  {
   "cell_type": "markdown",
   "metadata": {},
   "source": [
    "> **Step 1:** Before we get too far, let's do a quick check of the models that you can use in this situation given that you are working on a regression problem.  Use the dictionary and corresponding letters below to provide all the possible models you might choose to use."
   ]
  },
  {
   "cell_type": "markdown",
   "metadata": {},
   "source": [
    "```\n",
    "##### When can you use the model - use each option as many times as necessary\n",
    "a = 'regression'\n",
    "b = 'classification'\n",
    "c = 'both regression and classification'\n",
    "\n",
    "models = {\n",
    "    'decision trees': c,\n",
    "    'random forest': c,\n",
    "    'adaptive boosting': c,\n",
    "    'logistic regression': b,\n",
    "    'linear regression': a\n",
    "}\n",
    "```\n",
    "That's right!  All but logistic regression can be used for predicting numeric values.  And linear regression is the only one of these that you should not use for predicting categories.  Technically sklearn won't stop you from doing most of anything you want, but you probably want to treat cases in the way you found by answering this question!\n"
   ]
  },
  {
   "cell_type": "markdown",
   "metadata": {},
   "source": [
    "> **Step 2:** Now for each of the models you found in the previous question that can be used for regression problems, import them using sklearn."
   ]
  },
  {
   "cell_type": "code",
   "execution_count": 5,
   "metadata": {},
   "outputs": [],
   "source": [
    "# Import models from sklearn - notice you will want to use \n",
    "# the regressor version (not classifier) - googling to find \n",
    "# each of these is what we all do!\n",
    "from sklearn.tree import DecisionTreeRegressor\n",
    "from sklearn.ensemble import RandomForestRegressor\n",
    "from sklearn.ensemble import AdaBoostRegressor\n",
    "from sklearn.linear_model import LinearRegression"
   ]
  },
  {
   "cell_type": "markdown",
   "metadata": {},
   "source": [
    "> **Step 3:** Now that you have imported the 4 models that can be used for regression problems, instantate each below."
   ]
  },
  {
   "cell_type": "code",
   "execution_count": 6,
   "metadata": {},
   "outputs": [],
   "source": [
    "# Instantiate each of the models you imported\n",
    "# For now use the defaults for all the hyperparameters\n",
    "\n",
    "dt = DecisionTreeRegressor()\n",
    "rf = RandomForestRegressor()\n",
    "ada = AdaBoostRegressor()\n",
    "lr = LinearRegression()"
   ]
  },
  {
   "cell_type": "markdown",
   "metadata": {},
   "source": [
    "> **Step 4:** Fit each of your instantiated models on the training data."
   ]
  },
  {
   "cell_type": "code",
   "execution_count": 7,
   "metadata": {},
   "outputs": [
    {
     "data": {
      "text/plain": [
       "LinearRegression(copy_X=True, fit_intercept=True, n_jobs=None, normalize=False)"
      ]
     },
     "execution_count": 7,
     "metadata": {},
     "output_type": "execute_result"
    }
   ],
   "source": [
    "# Fit each of your models using the training data\n",
    "dt.fit(X_train, y_train)\n",
    "rf.fit(X_train, y_train)\n",
    "ada.fit(X_train, y_train)\n",
    "lr.fit(X_train, y_train)"
   ]
  },
  {
   "cell_type": "markdown",
   "metadata": {},
   "source": [
    "> **Step 5:** Use each of your models to predict on the test data."
   ]
  },
  {
   "cell_type": "code",
   "execution_count": 8,
   "metadata": {},
   "outputs": [],
   "source": [
    "# Predict on the test values for each model\n",
    "dt_pred = dt.predict(X_test)\n",
    "rf_pred = rf.predict(X_test)\n",
    "ada_pred = ada.predict(X_test)\n",
    "lr_pred = lr.predict(X_test)"
   ]
  },
  {
   "cell_type": "markdown",
   "metadata": {},
   "source": [
    "> **Step 6:** Now for the information related to this lesson.  Use the dictionary to match the metrics that are used for regression and those that are for classification."
   ]
  },
  {
   "cell_type": "markdown",
   "metadata": {},
   "source": [
    "```\n",
    "# potential model options\n",
    "a = 'regression'\n",
    "b = 'classification'\n",
    "c = 'both regression and classification'\n",
    "\n",
    "#\n",
    "metrics = {\n",
    "    'precision': b,\n",
    "    'recall': b,\n",
    "    'accuracy': b,\n",
    "    'r2_score': a,\n",
    "    'mean_squared_error': a,\n",
    "    'area_under_curve': b, \n",
    "    'mean_absolute_area': a \n",
    "}\n",
    "```"
   ]
  },
  {
   "cell_type": "markdown",
   "metadata": {},
   "source": [
    "> **Step 6:** Now that you have identified the metrics that can be used in for regression problems, use sklearn to import them."
   ]
  },
  {
   "cell_type": "code",
   "execution_count": 10,
   "metadata": {},
   "outputs": [],
   "source": [
    "from sklearn.metrics import r2_score\n",
    "from sklearn.metrics import mean_squared_error\n",
    "from sklearn.metrics import mean_absolute_error"
   ]
  },
  {
   "cell_type": "markdown",
   "metadata": {},
   "source": [
    "> **Step 7:** Similar to what you did with classification models, let's make sure you are comfortable with how exactly each of these metrics is being calculated.  We can then match the value to what sklearn provides."
   ]
  },
  {
   "cell_type": "markdown",
   "metadata": {},
   "source": [
    "$$ R2 = 1- \\frac{MSR(regression-model)}{MSR(simple-model)}$$"
   ]
  },
  {
   "cell_type": "code",
   "execution_count": 25,
   "metadata": {},
   "outputs": [
    {
     "name": "stdout",
     "output_type": "stream",
     "text": [
      "0.7568527926910873\n",
      "0.7568527926910873\n",
      "random forrest\n",
      "0.8730840381345586\n",
      "0.8730840381345586\n",
      "ada\n",
      "0.8081976574948956\n",
      "0.8081976574948956\n",
      "linear\n",
      "0.7261570836552478\n",
      "0.7261570836552478\n",
      "Since the above match, we can see that we have correctly calculated the r2 value.\n"
     ]
    }
   ],
   "source": [
    "def r2(actual, preds):\n",
    "    '''\n",
    "    INPUT:\n",
    "    actual - numpy array or pd series of actual y values\n",
    "    preds - numpy array or pd series of predicted y values\n",
    "    OUTPUT:\n",
    "    returns the r-squared score as a float\n",
    "    '''\n",
    "    sse = np.sum((actual-preds)**2)\n",
    "    sst = np.sum((actual-np.mean(actual))**2)\n",
    "    return 1 - sse/sst\n",
    "\n",
    "# Check solution matches sklearn\n",
    "print(r2(y_test, dt_pred))\n",
    "print(r2_score(y_test, dt_pred))\n",
    "print(\"random forrest\")\n",
    "print(r2(y_test, rf_pred))\n",
    "print(r2_score(y_test, rf_pred))\n",
    "print(\"ada\")\n",
    "print(r2(y_test, ada_pred))\n",
    "print(r2_score(y_test, ada_pred))\n",
    "print(\"linear\")\n",
    "print(r2(y_test, lr_pred))\n",
    "print(r2_score(y_test, lr_pred))\n",
    "print(\"Since the above match, we can see that we have correctly calculated the r2 value.\")"
   ]
  },
  {
   "cell_type": "markdown",
   "metadata": {},
   "source": [
    "> **Step 8:** Your turn fill in the function below and see if your result matches the built in for mean_squared_error. "
   ]
  },
  {
   "cell_type": "code",
   "execution_count": 26,
   "metadata": {},
   "outputs": [
    {
     "name": "stdout",
     "output_type": "stream",
     "text": [
      "18.40101796407186\n",
      "18.40101796407186\n",
      "random forrest\n",
      "9.604810682634733\n",
      "9.604810682634733\n",
      "ada\n",
      "14.515315183133174\n",
      "14.515315183133174\n",
      "linear\n",
      "20.72402343733974\n",
      "20.72402343733974\n",
      "If the above match, you are all set!\n"
     ]
    }
   ],
   "source": [
    "def mse(actual, preds):\n",
    "    '''\n",
    "    INPUT:\n",
    "    actual - numpy array or pd series of actual y values\n",
    "    preds - numpy array or pd series of predicted y values\n",
    "    OUTPUT:\n",
    "    returns the mean squared error as a float\n",
    "    '''\n",
    "    return (1/len(preds)) * np.sum((actual - preds)**2)\n",
    "\n",
    "\n",
    "# Check your solution matches sklearn\n",
    "print(mse(y_test, dt_pred))\n",
    "print(mean_squared_error(y_test, dt_pred))\n",
    "print(\"random forrest\")\n",
    "print(mse(y_test, rf_pred))\n",
    "print(mean_squared_error(y_test, rf_pred))\n",
    "print(\"ada\")\n",
    "print(mse(y_test, ada_pred))\n",
    "print(mean_squared_error(y_test, ada_pred))\n",
    "print(\"linear\")\n",
    "print(mse(y_test, lr_pred))\n",
    "print(mean_squared_error(y_test, lr_pred))\n",
    "print(\"If the above match, you are all set!\")"
   ]
  },
  {
   "cell_type": "markdown",
   "metadata": {},
   "source": [
    "> **Step 9:** Now one last time - complete the function related to mean absolute error.  Then check your function against the sklearn metric to assure they match. "
   ]
  },
  {
   "cell_type": "code",
   "execution_count": 27,
   "metadata": {},
   "outputs": [
    {
     "name": "stdout",
     "output_type": "stream",
     "text": [
      "2.9191616766467066\n",
      "2.9191616766467066\n",
      "random forrest\n",
      "2.1086227544910185\n",
      "2.1086227544910185\n",
      "ada\n",
      "2.6252210010563477\n",
      "2.6252210010563477\n",
      "linear\n",
      "3.1482557548168217\n",
      "3.1482557548168217\n",
      "If the above match, you are all set!\n"
     ]
    }
   ],
   "source": [
    "def mae(actual, preds):\n",
    "    '''\n",
    "    INPUT:\n",
    "    actual - numpy array or pd series of actual y values\n",
    "    preds - numpy array or pd series of predicted y values\n",
    "    OUTPUT:\n",
    "    returns the mean absolute error as a float\n",
    "    '''\n",
    "    \n",
    "    return np.sum(abs(actual - preds))/len(actual)\n",
    "\n",
    "# Check your solution matches sklearn\n",
    "print(mae(y_test, dt_pred))\n",
    "print(mean_absolute_error(y_test, dt_pred))\n",
    "print(\"random forrest\")\n",
    "print(mae(y_test, rf_pred))\n",
    "print(mean_absolute_error(y_test, rf_pred))\n",
    "print(\"ada\")\n",
    "print(mae(y_test, ada_pred))\n",
    "print(mean_absolute_error(y_test, ada_pred))\n",
    "print(\"linear\")\n",
    "print(mae(y_test, lr_pred))\n",
    "print(mean_absolute_error(y_test, lr_pred))\n",
    "print(\"If the above match, you are all set!\")"
   ]
  },
  {
   "cell_type": "markdown",
   "metadata": {},
   "source": [
    "> **Step 10:** Which model performed the best in terms of each of the metrics?  Note that r2 and mse will always match, but the mae may give a different best model.  Use the dictionary and space below to match the best model via each metric."
   ]
  },
  {
   "cell_type": "code",
   "execution_count": null,
   "metadata": {},
   "outputs": [],
   "source": []
  }
 ],
 "metadata": {
  "kernelspec": {
   "display_name": "Python [conda env:root] *",
   "language": "python",
   "name": "conda-root-py"
  },
  "language_info": {
   "codemirror_mode": {
    "name": "ipython",
    "version": 3
   },
   "file_extension": ".py",
   "mimetype": "text/x-python",
   "name": "python",
   "nbconvert_exporter": "python",
   "pygments_lexer": "ipython3",
   "version": "3.7.6"
  }
 },
 "nbformat": 4,
 "nbformat_minor": 4
}

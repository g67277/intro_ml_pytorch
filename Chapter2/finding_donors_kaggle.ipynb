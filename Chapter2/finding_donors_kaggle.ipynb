{
 "cells": [
  {
   "cell_type": "code",
   "execution_count": 25,
   "metadata": {},
   "outputs": [
    {
     "ename": "ModuleNotFoundError",
     "evalue": "No module named 'sklearn_pandas'",
     "output_type": "error",
     "traceback": [
      "\u001b[0;31m---------------------------------------------------------------------------\u001b[0m",
      "\u001b[0;31mModuleNotFoundError\u001b[0m                       Traceback (most recent call last)",
      "\u001b[0;32m<ipython-input-25-3d8b2670a4c2>\u001b[0m in \u001b[0;36m<module>\u001b[0;34m\u001b[0m\n\u001b[1;32m      7\u001b[0m \u001b[0;32mfrom\u001b[0m \u001b[0msklearn\u001b[0m\u001b[0;34m.\u001b[0m\u001b[0mpreprocessing\u001b[0m \u001b[0;32mimport\u001b[0m \u001b[0mFunctionTransformer\u001b[0m\u001b[0;34m,\u001b[0m \u001b[0mMinMaxScaler\u001b[0m\u001b[0;34m\u001b[0m\u001b[0;34m\u001b[0m\u001b[0m\n\u001b[1;32m      8\u001b[0m \u001b[0;32mfrom\u001b[0m \u001b[0msklearn\u001b[0m\u001b[0;34m.\u001b[0m\u001b[0mimpute\u001b[0m \u001b[0;32mimport\u001b[0m \u001b[0mSimpleImputer\u001b[0m\u001b[0;34m\u001b[0m\u001b[0;34m\u001b[0m\u001b[0m\n\u001b[0;32m----> 9\u001b[0;31m \u001b[0;32mfrom\u001b[0m \u001b[0msklearn_pandas\u001b[0m \u001b[0;32mimport\u001b[0m \u001b[0mCategoricalImputer\u001b[0m\u001b[0;34m\u001b[0m\u001b[0;34m\u001b[0m\u001b[0m\n\u001b[0m",
      "\u001b[0;31mModuleNotFoundError\u001b[0m: No module named 'sklearn_pandas'"
     ]
    }
   ],
   "source": [
    "import pandas as pd\n",
    "import numpy as np\n",
    "from sklearn.model_selection import train_test_split\n",
    "from sklearn.ensemble import AdaBoostClassifier\n",
    "from sklearn.metrics import roc_auc_score\n",
    "from sklearn.pipeline import Pipeline, FeatureUnion\n",
    "from sklearn.preprocessing import FunctionTransformer, MinMaxScaler\n",
    "from sklearn.impute import SimpleImputer\n",
    "from sklearn_pandas import CategoricalImputer"
   ]
  },
  {
   "cell_type": "code",
   "execution_count": null,
   "metadata": {},
   "outputs": [],
   "source": [
    "data = pd.read_csv(\"census.csv\")"
   ]
  },
  {
   "cell_type": "code",
   "execution_count": null,
   "metadata": {},
   "outputs": [],
   "source": [
    "# numerical\n",
    "num_cols = ['age', 'education-num', 'capital-gain',\n",
    "            'capital-loss', 'hours-per-week']\n",
    "\n",
    "# categorical\n",
    "cat_cols = ['workclass', 'education_level', \n",
    "            'marital-status', 'occupation', \n",
    "            'relationship', 'race', \n",
    "            'sex', 'native-country']\n",
    "\n",
    "# need log transform\n",
    "log_transform_cols = ['capital-loss', 'capital-gain']"
   ]
  },
  {
   "cell_type": "code",
   "execution_count": null,
   "metadata": {},
   "outputs": [],
   "source": [
    "# select the categorical columsn\n",
    "def get_cat_cols(X):\n",
    "    return X[cat_cols]\n",
    "\n",
    "# select the numerical columns\n",
    "def get_num_cols(X):\n",
    "    return X[num_cols]\n",
    "\n",
    "# select the columns that need log transform\n",
    "def get_log_transform_cols(X):\n",
    "    return X[log_transform_cols]\n",
    "\n",
    "# one-hot encode the categorical variables, replacing nan with 0\n",
    "def get_dummies(X):\n",
    "    return pd.get_dummies(X)\n",
    "\n",
    "# imputer for empty values in categorical variables.\n",
    "# note: this is not optimal since we are not using the strategy from train in the test\n",
    "# sample. Not sure how to accomplish that.\n",
    "def cat_imputer(X):\n",
    "    return X.apply(lambda col: CategoricalImputer().fit_transform(col)) "
   ]
  },
  {
   "cell_type": "code",
   "execution_count": null,
   "metadata": {},
   "outputs": [],
   "source": [
    "# log transform\n",
    "log_transform_pipeline = Pipeline([\n",
    " ('get_log_transform_cols', FunctionTransformer(get_log_transform_cols, validate=False)),\n",
    " ('imputer', SimpleImputer(strategy='mean')),   \n",
    " ('log_transform', FunctionTransformer(np.log1p))\n",
    "])\n",
    "\n",
    "# for all the numerical cols fill null values with the mean of the column\n",
    "# and then apply scaling\n",
    "num_cols_pipeline = Pipeline([\n",
    " ('get_num_cols', FunctionTransformer(get_num_cols, validate=False)),\n",
    " ('imputer', SimpleImputer(strategy='mean')),\n",
    " ('min_max_scaler', MinMaxScaler())\n",
    "])\n",
    "\n",
    "# for all the categorical cols, apply the categorical imputer function\n",
    "# from the sklearn_pandas library and then one-hot encode using the pandas\n",
    "# get_dummies function\n",
    "cat_cols_pipeline = Pipeline([\n",
    " ('get_cat_cols', FunctionTransformer(get_cat_cols, validate=False)),\n",
    " ('imputer', FunctionTransformer(cat_imputer, validate=False)),\n",
    " ('get_dummies', FunctionTransformer(get_dummies, validate=False))\n",
    "])"
   ]
  },
  {
   "cell_type": "code",
   "execution_count": null,
   "metadata": {},
   "outputs": [],
   "source": [
    "steps_ = FeatureUnion([\n",
    "    ('log_transform', log_transform_pipeline),\n",
    "    ('num_cols', num_cols_pipeline),\n",
    "    ('cat_cols', cat_cols_pipeline)\n",
    "])\n",
    "\n",
    "# this full pipeline will apply the 3 previous steps\n",
    "full_pipeline = Pipeline([('steps_', steps_)])"
   ]
  },
  {
   "cell_type": "code",
   "execution_count": null,
   "metadata": {},
   "outputs": [],
   "source": [
    "# binarize the target variable\n",
    "y = data['income'].map({'<=50K': 0, '>50K': 1})\n",
    "\n",
    "# transform the entire training set.\n",
    "# this pipeline will be fitted to the training set\n",
    "# and the test set (for submission) only need to be transformed (not fitted)\n",
    "X = full_pipeline.fit_transform(data)\n",
    "\n",
    "# split the data\n",
    "X_train, X_test, y_train, y_test = train_test_split(X, y)"
   ]
  },
  {
   "cell_type": "code",
   "execution_count": 24,
   "metadata": {},
   "outputs": [],
   "source": [
    "clf = AdaBoostClassifier(n_estimators=400, learning_rate=1, random_state=23).fit(X_train, y_train)"
   ]
  },
  {
   "cell_type": "code",
   "execution_count": 11,
   "metadata": {},
   "outputs": [
    {
     "name": "stdout",
     "output_type": "stream",
     "text": [
      "score train: 0.9260630332436355\n",
      "score test: 0.9271893639434359\n"
     ]
    }
   ],
   "source": [
    "probs_train = clf.predict_proba(X_train)[:, 1]\n",
    "probs_test = clf.predict_proba(X_test)[:, 1]\n",
    "print(\"score train: {}\".format(roc_auc_score(y_train, probs_train)))\n",
    "print(\"score test: {}\".format(roc_auc_score(y_test, probs_test)))"
   ]
  },
  {
   "cell_type": "code",
   "execution_count": 16,
   "metadata": {},
   "outputs": [
    {
     "name": "stdout",
     "output_type": "stream",
     "text": [
      "shape1: (45222, 14)\n",
      "shape1: (45222, 105)\n"
     ]
    }
   ],
   "source": [
    "test = pd.read_csv(\"test_census.csv\")\n",
    "print(\"shape1: {}\".format(test.shape))\n",
    "\n",
    "# use the pipeline to transform\n",
    "X_sub = full_pipeline.transform(test)\n",
    "\n",
    "# rename the first column to id\n",
    "test['id'] = test.iloc[:,0] \n",
    "print(\"shape1: {}\".format(X_sub.shape))\n",
    "# make predictions\n",
    "test['income'] = clf.predict_proba(X_sub)[:, 1]\n",
    "\n",
    "# generate output file\n",
    "test[['id', 'income']].to_csv(\"submission.csv\", index=False)"
   ]
  },
  {
   "cell_type": "code",
   "execution_count": null,
   "metadata": {},
   "outputs": [],
   "source": []
  }
 ],
 "metadata": {
  "kernelspec": {
   "display_name": "Python [conda env:root] *",
   "language": "python",
   "name": "conda-root-py"
  },
  "language_info": {
   "codemirror_mode": {
    "name": "ipython",
    "version": 3
   },
   "file_extension": ".py",
   "mimetype": "text/x-python",
   "name": "python",
   "nbconvert_exporter": "python",
   "pygments_lexer": "ipython3",
   "version": "3.7.6"
  }
 },
 "nbformat": 4,
 "nbformat_minor": 4
}

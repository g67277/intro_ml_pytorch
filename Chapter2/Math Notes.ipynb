{
 "cells": [
  {
   "cell_type": "markdown",
   "metadata": {},
   "source": [
    "# Polynomial"
   ]
  },
  {
   "cell_type": "markdown",
   "metadata": {},
   "source": [
    "Terms: Mathematical Expression made of number and variables\n",
    "e.g. 3 is the number part and x is the variable\n",
    "\n",
    "number part = 3 is called the Coefficient\n",
    "variable part = is made of one or more variables raised to a power\n",
    "e.g. y is always raised to the power of 1, but its not written\n",
    "\n",
    "#### Polynomial is a combination of many terms joined by addition or subtractions\n",
    "\n",
    "one term = monomial\n",
    "two terms = binomial\n",
    "three terms = trinomial\n",
    "more than 3 = polynomial (many)\n",
    "\n"
   ]
  },
  {
   "cell_type": "markdown",
   "metadata": {},
   "source": [
    "## What is the degree of a polynomial?\n",
    "\n",
    "The degree is the larges exponent:\n",
    "$$x^4 - 5x^2 + 3x = x^4 = 4$$ \n",
    "$$7x^4 - 2x^5 + 3x^11 = 3x^11 = 11$$\n",
    "\n",
    "When there are multiple moninomials, we add their exponent, if larger than the rest, then thats the degree:\n",
    "$$x^4 - 5x^2y^4 + 3x = 5x^2y^4 = 6$$ \n",
    "\n"
   ]
  },
  {
   "cell_type": "markdown",
   "metadata": {},
   "source": [
    "### Simplifying polynomial\n",
    "\n",
    "$$1x^4+1x^3+1x^3+1x^2+1x^1$$\n",
    "simplify by adding the two 1x^3\n",
    "$$1x^4+2x^3+1x^2+1x^1$$\n",
    "\n",
    "We can add any term with the same variable to simplify\n",
    "\n"
   ]
  },
  {
   "cell_type": "markdown",
   "metadata": {},
   "source": [
    "# Standard Deviation\n",
    "This is a measure of the amount of variation or dispersion of a set of values"
   ]
  },
  {
   "cell_type": "markdown",
   "metadata": {},
   "source": [
    "# Natural Logs\n",
    "regular log is $$y = log_bx$$\n",
    "natural log is $$y = log_ex = ln_x = lnx$$"
   ]
  },
  {
   "cell_type": "markdown",
   "metadata": {},
   "source": [
    "same as regular, except its base e instead of an integer\n"
   ]
  },
  {
   "cell_type": "code",
   "execution_count": null,
   "metadata": {},
   "outputs": [],
   "source": []
  }
 ],
 "metadata": {
  "kernelspec": {
   "display_name": "Python 3",
   "language": "python",
   "name": "python3"
  },
  "language_info": {
   "codemirror_mode": {
    "name": "ipython",
    "version": 3
   },
   "file_extension": ".py",
   "mimetype": "text/x-python",
   "name": "python",
   "nbconvert_exporter": "python",
   "pygments_lexer": "ipython3",
   "version": "3.7.6"
  }
 },
 "nbformat": 4,
 "nbformat_minor": 4
}

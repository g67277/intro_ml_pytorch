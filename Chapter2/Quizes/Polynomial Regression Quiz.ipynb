{
 "cells": [
  {
   "cell_type": "markdown",
   "metadata": {},
   "source": [
    "1. Load in the data\n",
    "\n",
    "The data is in the file called 'data.csv'. Note that this data has a header line.\n",
    "Make sure that you've split out the data into the predictor feature in X and outcome feature in y.\n",
    "For X, make sure it is in a 2-d array of 20 rows by 1 column. You might need to use NumPy's reshape function to accomplish this.\n",
    "2. Create polynomial features\n",
    "\n",
    "Create an instance of sklearn's PolynomialFeatures class and assign it to the variable poly_feat. Pay attention to how to set the degree of features, since that will be how the exercise is evaluated.\n",
    "Create the polynomial features by using the PolynomialFeatures object's .fit_transform() method. The \"fit\" side of the method considers how many features are needed in the output, and the \"transform\" side applies those considerations to the data provided to the method as an argument. Assign the new feature matrix to the X_poly variable.\n",
    "3. Build a polynomial regression model\n",
    "\n",
    "Create a polynomial regression model by combining sklearn's LinearRegression class with the polynomial features. Assign the fit model to poly_model.\n"
   ]
  },
  {
   "cell_type": "code",
   "execution_count": 2,
   "metadata": {},
   "outputs": [],
   "source": [
    "import numpy as np\n",
    "import matplotlib.pyplot as plt\n",
    "import pandas as pd"
   ]
  },
  {
   "cell_type": "code",
   "execution_count": 3,
   "metadata": {},
   "outputs": [],
   "source": [
    "train_data = pd.read_csv('testData/polynomialRegressionData.csv')\n",
    "X = train_data['Var_X'].values.reshape(-1, 1)\n",
    "y = train_data['Var_Y'].values"
   ]
  },
  {
   "cell_type": "code",
   "execution_count": 5,
   "metadata": {},
   "outputs": [
    {
     "data": {
      "text/html": [
       "<div>\n",
       "<style scoped>\n",
       "    .dataframe tbody tr th:only-of-type {\n",
       "        vertical-align: middle;\n",
       "    }\n",
       "\n",
       "    .dataframe tbody tr th {\n",
       "        vertical-align: top;\n",
       "    }\n",
       "\n",
       "    .dataframe thead th {\n",
       "        text-align: right;\n",
       "    }\n",
       "</style>\n",
       "<table border=\"1\" class=\"dataframe\">\n",
       "  <thead>\n",
       "    <tr style=\"text-align: right;\">\n",
       "      <th></th>\n",
       "      <th>Var_X</th>\n",
       "      <th>Var_Y</th>\n",
       "    </tr>\n",
       "  </thead>\n",
       "  <tbody>\n",
       "    <tr>\n",
       "      <th>0</th>\n",
       "      <td>-0.33532</td>\n",
       "      <td>6.66854</td>\n",
       "    </tr>\n",
       "    <tr>\n",
       "      <th>1</th>\n",
       "      <td>0.02160</td>\n",
       "      <td>3.86398</td>\n",
       "    </tr>\n",
       "    <tr>\n",
       "      <th>2</th>\n",
       "      <td>-1.19438</td>\n",
       "      <td>5.16161</td>\n",
       "    </tr>\n",
       "    <tr>\n",
       "      <th>3</th>\n",
       "      <td>-0.65046</td>\n",
       "      <td>8.43823</td>\n",
       "    </tr>\n",
       "    <tr>\n",
       "      <th>4</th>\n",
       "      <td>-0.28001</td>\n",
       "      <td>5.57201</td>\n",
       "    </tr>\n",
       "    <tr>\n",
       "      <th>5</th>\n",
       "      <td>1.93258</td>\n",
       "      <td>-11.13270</td>\n",
       "    </tr>\n",
       "    <tr>\n",
       "      <th>6</th>\n",
       "      <td>1.22620</td>\n",
       "      <td>-5.31226</td>\n",
       "    </tr>\n",
       "    <tr>\n",
       "      <th>7</th>\n",
       "      <td>0.74727</td>\n",
       "      <td>-4.63725</td>\n",
       "    </tr>\n",
       "    <tr>\n",
       "      <th>8</th>\n",
       "      <td>3.32853</td>\n",
       "      <td>3.80650</td>\n",
       "    </tr>\n",
       "    <tr>\n",
       "      <th>9</th>\n",
       "      <td>2.87457</td>\n",
       "      <td>-6.06084</td>\n",
       "    </tr>\n",
       "    <tr>\n",
       "      <th>10</th>\n",
       "      <td>-1.48662</td>\n",
       "      <td>7.22328</td>\n",
       "    </tr>\n",
       "    <tr>\n",
       "      <th>11</th>\n",
       "      <td>0.37629</td>\n",
       "      <td>2.38887</td>\n",
       "    </tr>\n",
       "    <tr>\n",
       "      <th>12</th>\n",
       "      <td>1.43918</td>\n",
       "      <td>-7.13415</td>\n",
       "    </tr>\n",
       "    <tr>\n",
       "      <th>13</th>\n",
       "      <td>0.24183</td>\n",
       "      <td>2.00412</td>\n",
       "    </tr>\n",
       "    <tr>\n",
       "      <th>14</th>\n",
       "      <td>-2.79140</td>\n",
       "      <td>4.29794</td>\n",
       "    </tr>\n",
       "    <tr>\n",
       "      <th>15</th>\n",
       "      <td>1.08176</td>\n",
       "      <td>-5.86553</td>\n",
       "    </tr>\n",
       "    <tr>\n",
       "      <th>16</th>\n",
       "      <td>2.81555</td>\n",
       "      <td>-5.20711</td>\n",
       "    </tr>\n",
       "    <tr>\n",
       "      <th>17</th>\n",
       "      <td>0.54924</td>\n",
       "      <td>-3.52863</td>\n",
       "    </tr>\n",
       "    <tr>\n",
       "      <th>18</th>\n",
       "      <td>2.36449</td>\n",
       "      <td>-10.16202</td>\n",
       "    </tr>\n",
       "    <tr>\n",
       "      <th>19</th>\n",
       "      <td>-1.01925</td>\n",
       "      <td>5.31123</td>\n",
       "    </tr>\n",
       "  </tbody>\n",
       "</table>\n",
       "</div>"
      ],
      "text/plain": [
       "      Var_X     Var_Y\n",
       "0  -0.33532   6.66854\n",
       "1   0.02160   3.86398\n",
       "2  -1.19438   5.16161\n",
       "3  -0.65046   8.43823\n",
       "4  -0.28001   5.57201\n",
       "5   1.93258 -11.13270\n",
       "6   1.22620  -5.31226\n",
       "7   0.74727  -4.63725\n",
       "8   3.32853   3.80650\n",
       "9   2.87457  -6.06084\n",
       "10 -1.48662   7.22328\n",
       "11  0.37629   2.38887\n",
       "12  1.43918  -7.13415\n",
       "13  0.24183   2.00412\n",
       "14 -2.79140   4.29794\n",
       "15  1.08176  -5.86553\n",
       "16  2.81555  -5.20711\n",
       "17  0.54924  -3.52863\n",
       "18  2.36449 -10.16202\n",
       "19 -1.01925   5.31123"
      ]
     },
     "execution_count": 5,
     "metadata": {},
     "output_type": "execute_result"
    }
   ],
   "source": [
    "train_data"
   ]
  },
  {
   "cell_type": "code",
   "execution_count": 96,
   "metadata": {},
   "outputs": [
    {
     "data": {
      "text/plain": [
       "array([[-0.33532],\n",
       "       [ 0.0216 ],\n",
       "       [-1.19438],\n",
       "       [-0.65046],\n",
       "       [-0.28001],\n",
       "       [ 1.93258],\n",
       "       [ 1.2262 ],\n",
       "       [ 0.74727],\n",
       "       [ 3.32853],\n",
       "       [ 2.87457],\n",
       "       [-1.48662],\n",
       "       [ 0.37629],\n",
       "       [ 1.43918],\n",
       "       [ 0.24183],\n",
       "       [-2.7914 ],\n",
       "       [ 1.08176],\n",
       "       [ 2.81555],\n",
       "       [ 0.54924],\n",
       "       [ 2.36449],\n",
       "       [-1.01925]])"
      ]
     },
     "execution_count": 96,
     "metadata": {},
     "output_type": "execute_result"
    }
   ],
   "source": [
    "X"
   ]
  },
  {
   "cell_type": "code",
   "execution_count": 97,
   "metadata": {},
   "outputs": [],
   "source": [
    "from sklearn.linear_model import LinearRegression\n",
    "from sklearn.preprocessing import PolynomialFeatures"
   ]
  },
  {
   "cell_type": "code",
   "execution_count": 98,
   "metadata": {},
   "outputs": [],
   "source": [
    "# Create polynomial features\n",
    "# TODO: Create a PolynomialFeatures object, then fit and transform the\n",
    "# predictor feature\n",
    "poly_feat = PolynomialFeatures(degree = 4)\n",
    "X_poly = poly_feat.fit_transform(X)"
   ]
  },
  {
   "cell_type": "code",
   "execution_count": 99,
   "metadata": {},
   "outputs": [],
   "source": [
    "# Make and fit the polynomial regression model\n",
    "# TODO: Create a LinearRegression object and fit it to the polynomial predictor\n",
    "# features\n",
    "poly_model = LinearRegression(fit_intercept = False).fit(X_poly, y)\n",
    "y_pred = poly_model.predict(X_poly)"
   ]
  },
  {
   "cell_type": "code",
   "execution_count": 100,
   "metadata": {
    "scrolled": true
   },
   "outputs": [
    {
     "data": {
      "image/png": "[encoded data removed]",
      "text/plain": [
       "<Figure size 720x576 with 1 Axes>"
      ]
     },
     "metadata": {
      "needs_background": "light"
     },
     "output_type": "display_data"
    }
   ],
   "source": [
    "# polynomial graph\n",
    "plt.figure(figsize=(10,8));\n",
    "plt.scatter(X, y, color = 'red')\n",
    "plt.plot(X, y_pred, linewidth=1.0, color = 'blue')\n",
    "plt.title('Testing')\n",
    "plt.xlabel('x vars')\n",
    "plt.ylabel('y vars')\n",
    "plt.show()"
   ]
  },
  {
   "cell_type": "markdown",
   "metadata": {},
   "source": [
    "Need to figure out how to fix the plot"
   ]
  },
  {
   "cell_type": "code",
   "execution_count": null,
   "metadata": {},
   "outputs": [],
   "source": []
  }
 ],
 "metadata": {
  "kernelspec": {
   "display_name": "Python 3",
   "language": "python",
   "name": "python3"
  },
  "language_info": {
   "codemirror_mode": {
    "name": "ipython",
    "version": 3
   },
   "file_extension": ".py",
   "mimetype": "text/x-python",
   "name": "python",
   "nbconvert_exporter": "python",
   "pygments_lexer": "ipython3",
   "version": "3.7.6"
  }
 },
 "nbformat": 4,
 "nbformat_minor": 4
}
